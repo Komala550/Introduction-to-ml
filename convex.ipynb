{
 "cells": [
  {
   "cell_type": "code",
   "execution_count": 1,
   "id": "1cdfc62c",
   "metadata": {},
   "outputs": [
    {
     "name": "stdout",
     "output_type": "stream",
     "text": [
      "The model has predicted 2898 output classes correctly out of 6180 with classification accuracy : 46.89320388349515\n"
     ]
    }
   ],
   "source": [
    "import numpy as np\n",
    "X_seen=np.load(\"X_seen.npy\",allow_pickle=True,encoding='latin1')#loading X_seen data to X_seen variable\n",
    "class_attributes_seen=np.load(\"class_attributes_seen.npy\",allow_pickle=True,encoding='latin1')#loading class_attributes_seen data to class_attributes_seen variable\n",
    "class_attributes_unseen=np.load(\"class_attributes_unseen.npy\",allow_pickle=True,encoding='latin1')#loading class_attributes_unseen data to class_attributes_unseen variable\n",
    "Xtest=np.load(\"Xtest.npy\",allow_pickle=True,encoding='latin1')#loading Xtest data to Xtest variable\n",
    "Ytest=np.load(\"Ytest.npy\",allow_pickle=True,encoding='latin1')#loading Ytest data to Ytest variable\n",
    "seen_classes_mean=[]\n",
    "for i in X_seen:\n",
    "    seen_classes_mean.append(np.mean(i,axis=0))#calculating mean vectors for 40 seen classes\n",
    "similaritymat=np.zeros((10,40))#creating a similarity matrix of size(10 x 40)\n",
    "for i in range(10):\n",
    "    for j in range(40):\n",
    "        similaritymat[i][j]=np.dot(class_attributes_unseen[i],class_attributes_seen[j])#finding similarity matrix sck = (ac)transpose ak\n",
    "for i in range(10):\n",
    "    sum=np.sum(similaritymat[i])\n",
    "    for j in range(40):\n",
    "        similaritymat[i][j]=similaritymat[i][j]/sum #normalizing the similarity matrix\n",
    "unseen_classes_mean=np.matmul(similaritymat,seen_classes_mean) #calculating unseenclasses mean by multiplying similarity matrix and seen classes mean\n",
    "predicted_output=[] #creating a list to store predicted outputs\n",
    "for test_input in Xtest:\n",
    "    dist_from_unseen_class=[]#creating a list to store distances from 10 unseen classes to testinput\n",
    "    for mean_vector in unseen_classes_mean:\n",
    "        d=np.linalg.norm(test_input-mean_vector)#calculating distance from unseen class mean to test input\n",
    "        dist_from_unseen_class.append(d)\n",
    "        temp=dist_from_unseen_class.index(min(dist_from_unseen_class))+1 #finding the index of the minimum distance because it is predicted output\n",
    "    predicted_output.append(temp)\n",
    "correctly_predicted_outputs=0 #initializing correct outputs to 0\n",
    "Total_instances=Ytest.size\n",
    "for i in range(len(predicted_output)):\n",
    "    if(Ytest[i][0]==predicted_output[i]): \n",
    "        correctly_predicted_outputs+=1 #incrementing correctly_predicted_outputs if predicted class and actual output class is same\n",
    "classification_accuracy=correctly_predicted_outputs/Total_instances*100 #accuracy formula\n",
    "print(\"The model has predicted {} output classes correctly out of {} with classification accuracy : {}\".format(correctly_predicted_outputs,Total_instances,classification_accuracy))"
   ]
  },
  {
   "cell_type": "code",
   "execution_count": null,
   "id": "d654e95d",
   "metadata": {},
   "outputs": [],
   "source": []
  },
  {
   "cell_type": "code",
   "execution_count": null,
   "id": "98c3d872",
   "metadata": {},
   "outputs": [],
   "source": []
  }
 ],
 "metadata": {
  "kernelspec": {
   "display_name": "Python 3 (ipykernel)",
   "language": "python",
   "name": "python3"
  },
  "language_info": {
   "codemirror_mode": {
    "name": "ipython",
    "version": 3
   },
   "file_extension": ".py",
   "mimetype": "text/x-python",
   "name": "python",
   "nbconvert_exporter": "python",
   "pygments_lexer": "ipython3",
   "version": "3.11.4"
  }
 },
 "nbformat": 4,
 "nbformat_minor": 5
}
