{
 "cells": [
  {
   "cell_type": "code",
   "execution_count": 1,
   "id": "4397b4d1",
   "metadata": {},
   "outputs": [
    {
     "name": "stdout",
     "output_type": "stream",
     "text": [
      "classification accuracy of model for lambda value 0.01 is :58.090614886731395\n",
      "classification accuracy of model for lambda value 0.1 is :59.54692556634305\n",
      "classification accuracy of model for lambda value 1 is :67.39482200647248\n",
      "classification accuracy of model for lambda value 10 is :73.28478964401295\n",
      "classification accuracy of model for lambda value 20 is :71.68284789644012\n",
      "classification accuracy of model for lambda value 50 is :65.08090614886731\n",
      "classification accuracy of model for lambda value 100 is :56.47249190938511\n",
      "The learning regression model gives high accuracy of 73.28478964401295 for lamda value 10\n"
     ]
    }
   ],
   "source": [
    "import numpy as np\n",
    "X_seen=np.load(\"X_seen.npy\",allow_pickle=True,encoding='latin1')#loading X_seen data to X_seen variable\n",
    "A_s=np.load(\"class_attributes_seen.npy\",allow_pickle=True,encoding='latin1')#loading class_attributes_seen data to A_s variable\n",
    "A_c=np.load(\"class_attributes_unseen.npy\",allow_pickle=True,encoding='latin1')#loading class_attributes_unseen data to A_c variable\n",
    "Xtest=np.load(\"Xtest.npy\",allow_pickle=True,encoding='latin1')#loading Xtest data to Xtest variable\n",
    "Ytest=np.load(\"Ytest.npy\",allow_pickle=True,encoding='latin1')#loading Ytest data to Ytest variable\n",
    "A_T_s=A_s.T #calculating transpose of A_s\n",
    "M_s=[] #creating list for mean vectors of seen classes\n",
    "for i in X_seen:\n",
    "    M_s.append(np.mean(i,axis=0))#calculating mean vectors for 40 seen classes\n",
    "A_T_s_A_s=np.matmul(A_T_s,A_s) #multiplying Astranspose and As\n",
    "I=np.eye(85) #creating (85 x 85) identity matrix\n",
    "A_T_s_M_s=np.matmul(A_T_s,M_s) #multiplying Astranspose and Ms\n",
    "lambda_list=[0.01,0.1,1,10,20,50,100] #taking different values of lambda in to lambda_list\n",
    "classification_accuracy_list=[] #creating a list for storing classification accuracy\n",
    "def regression(hyper_parameter_lambda):#defining a regression function with lamda as input argument\n",
    "    lambda_I=hyper_parameter_lambda*I #multiplying identity matrix with scalar lamda\n",
    "    A_T_s_A_s_I=np.add(A_T_s_A_s,lambda_I) #adding the matrices AtsAs and lamdaI\n",
    "    A_T_s_A_s_I_inv=np.linalg.inv(A_T_s_A_s_I) #taking the inverse of the matrix of sum of matrices AtsAs and lamdaI\n",
    "    W=np.matmul(A_T_s_A_s_I_inv,A_T_s_M_s) #deriving the weight vector by multiplying A_T_s_A_s_I_inv and M_s\n",
    "    M_us=np.matmul(A_c,W) #calculating mean vectors of unseen classes\n",
    "    predicted_output=[] #creating a list to store predicted outputs\n",
    "    for test_input in Xtest:\n",
    "        dist_from_unseen_class=[]#creating a list to store distances from 10 unseen classes to testinput\n",
    "        for mean_vector in M_us:\n",
    "            d=np.linalg.norm(test_input-mean_vector)#calculating distance from unseen class mean to test input\n",
    "            dist_from_unseen_class.append(d)\n",
    "            temp=dist_from_unseen_class.index(min(dist_from_unseen_class))+1 #finding the index of the minimum distance because it is predicted output\n",
    "        predicted_output.append(temp)\n",
    "    correctly_predicted_outputs=0 #initializing correct outputs to 0\n",
    "    Total_instances=Ytest.size\n",
    "    for i in range(len(predicted_output)):\n",
    "        if(Ytest[i][0]==predicted_output[i]): \n",
    "            correctly_predicted_outputs+=1 #incrementing correctly_predicted_outputs if predicted class and actual output class is same\n",
    "    classification_accuracy=correctly_predicted_outputs/Total_instances*100 #accuracy formula\n",
    "    return classification_accuracy#returning classification accuracy from regression function\n",
    "for hyper_param in lambda_list:#for every lambda value\n",
    "    cl_acc=regression(hyper_param) #calculating classification accuracy by calling regresssion function\n",
    "    classification_accuracy_list.append(cl_acc)\n",
    "    print(\"classification accuracy of model for lambda value {} is :{}\".format(hyper_param,cl_acc))\n",
    "maxaccuracy=np.max(classification_accuracy_list)\n",
    "maxaccuracy_lamda=lambda_list[classification_accuracy_list.index(maxaccuracy)]\n",
    "print(\"The learning regression model gives high accuracy of {} for lamda value {}\".format(maxaccuracy,maxaccuracy_lamda))"
   ]
  },
  {
   "cell_type": "code",
   "execution_count": null,
   "id": "0f77f0b0",
   "metadata": {},
   "outputs": [],
   "source": []
  }
 ],
 "metadata": {
  "kernelspec": {
   "display_name": "Python 3 (ipykernel)",
   "language": "python",
   "name": "python3"
  },
  "language_info": {
   "codemirror_mode": {
    "name": "ipython",
    "version": 3
   },
   "file_extension": ".py",
   "mimetype": "text/x-python",
   "name": "python",
   "nbconvert_exporter": "python",
   "pygments_lexer": "ipython3",
   "version": "3.11.4"
  }
 },
 "nbformat": 4,
 "nbformat_minor": 5
}
